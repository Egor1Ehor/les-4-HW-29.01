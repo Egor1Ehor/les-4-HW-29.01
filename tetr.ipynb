{
 "cells": [
  {
   "cell_type": "code",
   "execution_count": 49,
   "metadata": {},
   "outputs": [
    {
     "data": {
      "text/plain": [
       "3.141592653589793"
      ]
     },
     "execution_count": 49,
     "metadata": {},
     "output_type": "execute_result"
    }
   ],
   "source": [
    "import math\n",
    "math.pi\n",
    "math.tan(A) \n",
    "#print(\"S=pi*(R**2)\")\n",
    "#print(\"S=pi*(((p-a)*tan(A/2))**2)\")\n",
    "#print(\"S=pi*(((((a+b+c)/2)-a)*tan(A/2))**2)\")\n",
    "#print(\"p=(a+b+c)/2)\")\n",
    "#print(\"x=tan(A/2)\")\n",
    "#print(\"y=(p-a)\")\n",
    "#print(\"S=pi*(y*x)**2\")\n",
    "#print(\"S=pi*(y*1)**2\")\n",
    "#print(\"S=pi*1**2\")\n",
    "#print(\"z=(y-x)**2\")\n",
    "#print(\"S=pi*z\")\n",
    "a=5\n",
    "b=4\n",
    "c=3\n",
    "A=90\n",
    "#p==(a+b+c)/2\n",
    "p=6\n",
    "#p-a\n",
    "y=1\n",
    "x=1\n",
    "#(1*1)**2\n",
    "z=1\n",
    "math.pi*z"
   ]
  },
  {
   "cell_type": "code",
   "execution_count": 55,
   "metadata": {},
   "outputs": [
    {
     "data": {
      "text/plain": [
       "8.242507637310727"
      ]
     },
     "execution_count": 55,
     "metadata": {},
     "output_type": "execute_result"
    }
   ],
   "source": [
    "import math\n",
    "a=5\n",
    "b=4\n",
    "c=3\n",
    "A=90\n",
    "X=A/2\n",
    "math.pi*(((((a+b+c)/2)-a)*math.tan(90/2))**2)\n"
   ]
  },
  {
   "cell_type": "code",
   "execution_count": 59,
   "metadata": {},
   "outputs": [
    {
     "name": "stdout",
     "output_type": "stream",
     "text": [
      "S=pi*(R**2)\n",
      "R=(p-a)*tan(A/2)\n",
      "S=pi*(((p-a)*tan(A/2))**2)\n",
      "p=(a+b+c)/2)\n",
      "S=pi*(((((a+b+c)/2)-a)*tan(A/2))**2)\n"
     ]
    },
    {
     "data": {
      "text/plain": [
       "8.242507637310727"
      ]
     },
     "execution_count": 59,
     "metadata": {},
     "output_type": "execute_result"
    }
   ],
   "source": [
    "import math \n",
    "print(\"S=pi*(R**2)\")\n",
    "print(\"R=(p-a)*tan(A/2)\")\n",
    "print(\"S=pi*(((p-a)*tan(A/2))**2)\")\n",
    "print(\"p=(a+b+c)/2)\")\n",
    "print(\"S=pi*(((((a+b+c)/2)-a)*tan(A/2))**2)\")\n",
    "a=5\n",
    "b=4\n",
    "c=3\n",
    "A=90\n",
    "math.pi*(((((a+b+c)/2)-a)*math.tan(A/2))**2)"
   ]
  }
 ],
 "metadata": {
  "kernelspec": {
   "display_name": ".venv",
   "language": "python",
   "name": "python3"
  },
  "language_info": {
   "codemirror_mode": {
    "name": "ipython",
    "version": 3
   },
   "file_extension": ".py",
   "mimetype": "text/x-python",
   "name": "python",
   "nbconvert_exporter": "python",
   "pygments_lexer": "ipython3",
   "version": "3.12.1"
  }
 },
 "nbformat": 4,
 "nbformat_minor": 2
}
